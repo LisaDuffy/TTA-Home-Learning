{
 "metadata": {
  "language_info": {
   "codemirror_mode": {
    "name": "ipython",
    "version": 3
   },
   "file_extension": ".py",
   "mimetype": "text/x-python",
   "name": "python",
   "nbconvert_exporter": "python",
   "pygments_lexer": "ipython3",
   "version": "3.9.4"
  },
  "orig_nbformat": 2,
  "kernelspec": {
   "name": "python394jvsc74a57bd0aee8b7b246df8f9039afb4144a1f6fd8d2ca17a180786b69acc140d282b71a49",
   "display_name": "Python 3.9.4 64-bit"
  },
  "metadata": {
   "interpreter": {
    "hash": "aee8b7b246df8f9039afb4144a1f6fd8d2ca17a180786b69acc140d282b71a49"
   }
  }
 },
 "nbformat": 4,
 "nbformat_minor": 2,
 "cells": [
  {
   "cell_type": "code",
   "execution_count": 12,
   "metadata": {},
   "outputs": [
    {
     "output_type": "stream",
     "name": "stdout",
     "text": [
      "Sorry Lisa , but we were thinking of different numbers! ( 7 and  5 )\n"
     ]
    }
   ],
   "source": [
    "#Task1 - stores a random number and asks a user to correctly guess\n",
    "import random\n",
    "\n",
    "randomNum = random.randint(1,10)\n",
    "userName = input(\"What is your name ?\")\n",
    "userNum = int(input(\"I'm thinking of a number between 1 and 10, please enter a number that you are thinking of that is also between 1 and 10 :\"))\n",
    "\n",
    "if userNum == randomNum:\n",
    "    print (\"Well done\", userName, \", we were thinking of the same number (\", userNum,\")\")\n",
    "else:\n",
    "    print (\"Sorry\", userName, \", but we were thinking of different numbers! (\", randomNum, \"and \", userNum, \")\")"
   ]
  },
  {
   "cell_type": "code",
   "execution_count": 32,
   "metadata": {},
   "outputs": [
    {
     "output_type": "stream",
     "name": "stdout",
     "text": [
      "How do trees get online? They just log on!\n"
     ]
    }
   ],
   "source": [
    "#Task2 - asks a user for their favourite number between 1 and 100 and then tells them a jokes based on the number \n",
    "\n",
    "jokeNum = int(input(\"Please enter a number between 1 and 100 :\"))\n",
    "\n",
    "if 0 < jokeNum < 21:\n",
    "    print (\"How do trees get online? They just log on!\")\n",
    "elif 20 < jokeNum < 41:\n",
    "    print (\"How do you throw a space party? You PLANET!\")\n",
    "elif 40 < jokeNum < 61:\n",
    "    print (\"What do you call a pony with a cough? A little horse!\")\n",
    "elif 60 < jokeNum < 81:\n",
    "    print (\"Why did the M&M go to school? He wanted to be a SMARTIE!\")\n",
    "elif 80 < jokeNum < 100:\n",
    "    print (\"What do you call a singing laptop? A DELL!\")\n",
    "else:\n",
    "    print (\"Invalid number entered\")"
   ]
  },
  {
   "cell_type": "code",
   "execution_count": 14,
   "metadata": {},
   "outputs": [
    {
     "output_type": "stream",
     "name": "stdout",
     "text": [
      "Your favourite meal is soup, lasagna and ice-cream with a glass of wine\n"
     ]
    }
   ],
   "source": [
    "#Task3 - outputs a user's favourite meal and drink\n",
    "\n",
    "starterCourse = input (\"What is your favourite starter?\")\n",
    "mainCourse = input (\"What is your favourite main meal?\")\n",
    "dessertCourse = input (\"What is your favourite dessert?\")\n",
    "drink = input (\"What is your favourite drink?\")\n",
    "\n",
    "print (\"Your favourite meal is\", starterCourse+ \", \" + mainCourse, \"and \" + dessertCourse, \"with a glass of\", drink)"
   ]
  },
  {
   "cell_type": "code",
   "execution_count": 7,
   "metadata": {},
   "outputs": [
    {
     "output_type": "stream",
     "name": "stdout",
     "text": [
      "The motorbike is valued at £ 2000.00  after  0 year(s)\nThe motorbike is valued at £ 1800.00  after  1 year(s)\nThe motorbike is valued at £ 1620.00  after  2 year(s)\nThe motorbike is valued at £ 1458.00  after  3 year(s)\nThe motorbike is valued at £ 1312.20  after  4 year(s)\nThe motorbike is valued at £ 1180.98  after  5 year(s)\nThe motorbike is valued at £ 1062.88  after  6 year(s)\n"
     ]
    }
   ],
   "source": [
    "#Task 4 - calculate the loss of value of a motorbike\n",
    "\n",
    "bikeValue = 2000.00\n",
    "loss = 0.10\n",
    "year = 0\n",
    "\n",
    "while bikeValue >= 1000:\n",
    "    format_bikeValue = \"{:.2f}\".format(bikeValue)\n",
    "    print (\"The motorbike is valued at £\", format_bikeValue, \" after \", year, \"year(s)\")\n",
    "    bikeValue = bikeValue - (bikeValue * loss)\n",
    "    year = year + 1"
   ]
  },
  {
   "cell_type": "code",
   "execution_count": 22,
   "metadata": {},
   "outputs": [
    {
     "output_type": "stream",
     "name": "stdout",
     "text": [
      "6 - 7 = -1\n"
     ]
    }
   ],
   "source": [
    "#Task 5 - allow a user to perform a choice of operations on two numbers\n",
    "\n",
    "num1 = int(input(\"Enter a number :\"))\n",
    "num2 = int(input(\"Enter another number :\"))\n",
    "\n",
    "operator = input (\"Enter 'a' if you want to add, \\n 'b' if you want to subtract, \\n 'c' if you want to divide, \\n 'd' if you want to multiply or \\n 'e' if want to perform the power of \")\n",
    "\n",
    "operator = operator.lower()\n",
    "\n",
    "if operator == 'a':\n",
    "    print (num1, \"+\", num2, \"=\", num1+num2)\n",
    "elif operator == 'b':\n",
    "    print (num1, \"-\", num2, \"=\", num1-num2)\n",
    "elif operator == 'c':\n",
    "    print (num1, \"divided by\", num2, \"=\", num1/num2)\n",
    "elif operator == 'd':\n",
    "    print (num1, \"x\", num2, \"=\", num1*num2)\n",
    "elif operator == 'e':\n",
    "    print (num1, \"to the power of\", num2, \"=\",num1**num2)\n",
    "else:\n",
    "    print (\"Unable to perform calculation\")"
   ]
  },
  {
   "cell_type": "code",
   "execution_count": null,
   "metadata": {},
   "outputs": [],
   "source": []
  }
 ]
}