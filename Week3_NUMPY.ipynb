{
 "metadata": {
  "language_info": {
   "codemirror_mode": {
    "name": "ipython",
    "version": 3
   },
   "file_extension": ".py",
   "mimetype": "text/x-python",
   "name": "python",
   "nbconvert_exporter": "python",
   "pygments_lexer": "ipython3",
   "version": "3.9.4"
  },
  "orig_nbformat": 2,
  "kernelspec": {
   "name": "python394jvsc74a57bd0aee8b7b246df8f9039afb4144a1f6fd8d2ca17a180786b69acc140d282b71a49",
   "display_name": "Python 3.9.4 64-bit"
  },
  "metadata": {
   "interpreter": {
    "hash": "aee8b7b246df8f9039afb4144a1f6fd8d2ca17a180786b69acc140d282b71a49"
   }
  }
 },
 "nbformat": 4,
 "nbformat_minor": 2,
 "cells": [
  {
   "cell_type": "code",
   "execution_count": 1,
   "metadata": {},
   "outputs": [
    {
     "output_type": "stream",
     "name": "stdout",
     "text": [
      "Requirement already satisfied: numpy in /Library/Frameworks/Python.framework/Versions/3.9/lib/python3.9/site-packages (1.20.3)\n",
      "\u001b[33mWARNING: You are using pip version 20.2.3; however, version 21.1.1 is available.\n",
      "You should consider upgrading via the '/usr/local/bin/python3 -m pip install --upgrade pip' command.\u001b[0m\n",
      "Note: you may need to restart the kernel to use updated packages.\n"
     ]
    }
   ],
   "source": [
    "pip install numpy "
   ]
  },
  {
   "cell_type": "code",
   "execution_count": 2,
   "metadata": {},
   "outputs": [],
   "source": [
    "import numpy as np"
   ]
  },
  {
   "cell_type": "code",
   "execution_count": 3,
   "metadata": {},
   "outputs": [
    {
     "output_type": "stream",
     "name": "stdout",
     "text": [
      "[0 1 2 3 4 5 6 7 8 9]\n"
     ]
    }
   ],
   "source": [
    "#Task 1 - create a 1D array of numbers from 0 to 9\n",
    "array = np.array([0,1,2,3,4,5,6,7,8,9])\n",
    "\n",
    "print (array)"
   ]
  },
  {
   "cell_type": "code",
   "execution_count": 4,
   "metadata": {},
   "outputs": [
    {
     "output_type": "stream",
     "name": "stdout",
     "text": [
      "[[1. 1. 1.]\n [1. 1. 1.]\n [1. 1. 1.]]\n"
     ]
    }
   ],
   "source": [
    "#Task 2 - Create a 3×3 NumPy array of all Boolean value Trues\n",
    "\n",
    "array_3D = np.ones((3,3))\n",
    "\n",
    "print (array_3D)"
   ]
  },
  {
   "cell_type": "code",
   "execution_count": 5,
   "metadata": {},
   "outputs": [
    {
     "output_type": "stream",
     "name": "stdout",
     "text": [
      "[1, 3, 5, 7, 9]\n"
     ]
    }
   ],
   "source": [
    "#Task 3 - Extract all odd numbers from array of 1 - 10\n",
    "\n",
    "array = np.array([1,2,3,4,5,6,7,8,9,10])\n",
    "\n",
    "result = []\n",
    "\n",
    "for i in array:\n",
    "    if (i % 2) != 0:\n",
    "        result.append(i)\n",
    "\n",
    "print (result)"
   ]
  },
  {
   "cell_type": "code",
   "execution_count": 6,
   "metadata": {},
   "outputs": [
    {
     "output_type": "stream",
     "name": "stdout",
     "text": [
      "[-1  2 -1  4 -1  6 -1  8 -1 10]\n"
     ]
    }
   ],
   "source": [
    "#Task 4 - Replace all odd numbers in an array of 1-10 with the value -1\n",
    "\n",
    "array = np.array([1,2,3,4,5,6,7,8,9,10])\n",
    "\n",
    "array = np.where(array % 2 != 0, -1, array)\n",
    "\n",
    "print (array)"
   ]
  },
  {
   "cell_type": "code",
   "execution_count": 7,
   "metadata": {},
   "outputs": [
    {
     "output_type": "stream",
     "name": "stdout",
     "text": [
      "[[0 1 2 3 4]\n [5 6 7 8 9]]\n"
     ]
    }
   ],
   "source": [
    "#Task 5 - Convert a 1D array to a 2D array with 2 rows\n",
    "\n",
    "num = int(input(\"How many numbers would you like in your array?\"))\n",
    "\n",
    "array = np.arange(num)\n",
    "\n",
    "col = len(array) / 2\n",
    "col = int(col)\n",
    "\n",
    "newArray = array.reshape(2, col) \n",
    "# rows then columns when creating the matrix\n",
    "\n",
    "print(newArray)"
   ]
  },
  {
   "cell_type": "code",
   "execution_count": 8,
   "metadata": {},
   "outputs": [
    {
     "output_type": "stream",
     "name": "stdout",
     "text": [
      "Matrix stack : \n\n[[ 2  4  6]\n [ 8 10 12]\n [14 16 18]]\n[[ 1  3  5]\n [ 7  9 11]\n [13 15 17]]\n\n Dot totals for stack : \n\n[[108 132 156]\n [234 294 354]\n [360 456 552]]\n\n Sum totals for rows: \n\n[ 396  882 1368]\n\n Sum totals for colunns: \n\n[ 702  882 1062]\n\n Overall sum of stack: \n\n2646\n"
     ]
    }
   ],
   "source": [
    "#Task 6 -   Create two arrays a and b, stack these two arrays vertically use the np.dot and np.sum to calculate totals\n",
    "\n",
    "a = np.array([2,4,6,8,10,12,14,16,18])\n",
    "b = np.array([1,3,5,7,9,11,13,15,17])\n",
    "\n",
    "a = a.reshape(3,3)\n",
    "b = b.reshape(3,3)\n",
    "\n",
    "print (\"Matrix stack : \\n\")\n",
    "print(a)\n",
    "print(b)\n",
    "\n",
    "c = np.dot(a,b)\n",
    "print (\"\\n Dot totals for stack : \\n\")\n",
    "print(c)\n",
    "\n",
    "d = np.sum(c, axis =1)\n",
    "print (\"\\n Sum totals for rows: \\n\")\n",
    "print(d)\n",
    "\n",
    "e = np.sum(c, axis =0)\n",
    "print (\"\\n Sum totals for colunns: \\n\")\n",
    "print(e)\n",
    "\n",
    "f = np.sum(c)\n",
    "print (\"\\n Overall sum of stack: \\n\")\n",
    "print (f)"
   ]
  }
 ]
}