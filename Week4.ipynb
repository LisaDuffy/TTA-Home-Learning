{
 "cells": [
  {
   "cell_type": "code",
   "execution_count": 2,
   "metadata": {},
   "outputs": [
    {
     "name": "stdout",
     "output_type": "stream",
     "text": [
      "Requirement already satisfied: pandas in /Users/lisaduffy/opt/anaconda3/lib/python3.8/site-packages (1.2.4)\n",
      "Requirement already satisfied: python-dateutil>=2.7.3 in /Users/lisaduffy/opt/anaconda3/lib/python3.8/site-packages (from pandas) (2.8.1)\n",
      "Requirement already satisfied: pytz>=2017.3 in /Users/lisaduffy/opt/anaconda3/lib/python3.8/site-packages (from pandas) (2021.1)\n",
      "Requirement already satisfied: numpy>=1.16.5 in /Users/lisaduffy/opt/anaconda3/lib/python3.8/site-packages (from pandas) (1.20.1)\n",
      "Requirement already satisfied: six>=1.5 in /Users/lisaduffy/opt/anaconda3/lib/python3.8/site-packages (from python-dateutil>=2.7.3->pandas) (1.15.0)\n",
      "Note: you may need to restart the kernel to use updated packages.\n"
     ]
    }
   ],
   "source": [
    "pip install pandas"
   ]
  },
  {
   "cell_type": "code",
   "execution_count": 3,
   "metadata": {},
   "outputs": [
    {
     "name": "stdout",
     "output_type": "stream",
     "text": [
      "   Holiday Destination  Feedback score (/10)  Average Hotel * Rating(/5)  \\\n",
      "0         South Africa                    10                           4   \n",
      "1             Thailand                     5                           3   \n",
      "2                 Bali                     4                           2   \n",
      "3             Portugal                     7                           3   \n",
      "4                  USA                     5                           5   \n",
      "5            Australia                     9                           4   \n",
      "6               Brazil                     1                           2   \n",
      "7                Japan                     7                           5   \n",
      "8                Italy                     8                           3   \n",
      "9          Netherlands                     3                           3   \n",
      "10            Scotland                     2                           4   \n",
      "11              Greece                     6                           1   \n",
      "12             Croatia                     7                           2   \n",
      "13               Spain                     6                           3   \n",
      "14              Canada                     3                           4   \n",
      "\n",
      "    # All inclusive Hotels Most Visited City  \n",
      "0                      235         Cape Town  \n",
      "1                       40           Bangkok  \n",
      "2                        7          Denpasar  \n",
      "3                      256            Lisbon  \n",
      "4                    10456          New York  \n",
      "5                     7650            Sydney  \n",
      "6                       57    Rio de Janeiro  \n",
      "7                     2568             Tokyo  \n",
      "8                      489              Rome  \n",
      "9                      234         Amsterdam  \n",
      "10                       3         Edinburgh  \n",
      "11                     231            Athens  \n",
      "12                     456         Dubrovnik  \n",
      "13                     897         Barcelona  \n",
      "14                    1678           Toronto  \n"
     ]
    }
   ],
   "source": [
    "import pandas as pd \n",
    "\n",
    "holidaydata = pd.read_csv(\"Holiday_Destinations.csv\")\n",
    "\n",
    "holidaydataDF = pd.DataFrame(holidaydata)\n",
    "\n",
    "print (holidaydataDF)\n"
   ]
  },
  {
   "cell_type": "code",
   "execution_count": 4,
   "metadata": {},
   "outputs": [
    {
     "data": {
      "text/plain": [
       "(15, 5)"
      ]
     },
     "execution_count": 4,
     "metadata": {},
     "output_type": "execute_result"
    }
   ],
   "source": [
    "holidaydataDF.shape"
   ]
  },
  {
   "cell_type": "code",
   "execution_count": 5,
   "metadata": {},
   "outputs": [
    {
     "name": "stdout",
     "output_type": "stream",
     "text": [
      "  Holiday Destination  Feedback score (/10)  Average Hotel * Rating(/5)  \\\n",
      "2                Bali                     4                           2   \n",
      "3            Portugal                     7                           3   \n",
      "4                 USA                     5                           5   \n",
      "5           Australia                     9                           4   \n",
      "6              Brazil                     1                           2   \n",
      "7               Japan                     7                           5   \n",
      "\n",
      "   # All inclusive Hotels Most Visited City  \n",
      "2                       7          Denpasar  \n",
      "3                     256            Lisbon  \n",
      "4                   10456          New York  \n",
      "5                    7650            Sydney  \n",
      "6                      57    Rio de Janeiro  \n",
      "7                    2568             Tokyo  \n"
     ]
    }
   ],
   "source": [
    "print (holidaydataDF.iloc[2:8])"
   ]
  },
  {
   "cell_type": "code",
   "execution_count": 6,
   "metadata": {},
   "outputs": [],
   "source": [
    "import numpy as np"
   ]
  },
  {
   "cell_type": "code",
   "execution_count": 7,
   "metadata": {},
   "outputs": [
    {
     "name": "stdout",
     "output_type": "stream",
     "text": [
      "1683.8\n"
     ]
    }
   ],
   "source": [
    "print (holidaydataDF['# All inclusive Hotels'].mean())"
   ]
  },
  {
   "cell_type": "code",
   "execution_count": 8,
   "metadata": {},
   "outputs": [
    {
     "name": "stdout",
     "output_type": "stream",
     "text": [
      "6    Brazil\n",
      "Name: Holiday Destination, dtype: object\n"
     ]
    }
   ],
   "source": [
    "lowDest =  holidaydataDF['Feedback score (/10)'].min()\n",
    "\n",
    "lowDestDF = holidaydataDF.loc[holidaydataDF['Feedback score (/10)'] == lowDest]\n",
    "\n",
    "print (lowDestDF['Holiday Destination'])"
   ]
  },
  {
   "cell_type": "code",
   "execution_count": 9,
   "metadata": {},
   "outputs": [
    {
     "name": "stdout",
     "output_type": "stream",
     "text": [
      "0    South Africa\n",
      "Name: Holiday Destination, dtype: object\n"
     ]
    }
   ],
   "source": [
    "highDest =  holidaydataDF['Feedback score (/10)'].max()\n",
    "\n",
    "highDestDF = holidaydataDF.loc[holidaydataDF['Feedback score (/10)'] == highDest]\n",
    "\n",
    "print (highDestDF['Holiday Destination'])"
   ]
  },
  {
   "cell_type": "code",
   "execution_count": 10,
   "metadata": {},
   "outputs": [
    {
     "name": "stdout",
     "output_type": "stream",
     "text": [
      "4              USA\n",
      "5        Australia\n",
      "7            Japan\n",
      "14          Canada\n",
      "13           Spain\n",
      "8            Italy\n",
      "12         Croatia\n",
      "3         Portugal\n",
      "0     South Africa\n",
      "9      Netherlands\n",
      "11          Greece\n",
      "6           Brazil\n",
      "1         Thailand\n",
      "Name: Holiday Destination, dtype: object\n"
     ]
    }
   ],
   "source": [
    "hotelsDF = holidaydataDF.loc[holidaydataDF['# All inclusive Hotels'] > 9]\n",
    "\n",
    "hotelsDF = hotelsDF.sort_values('# All inclusive Hotels', ascending=False)\n",
    "\n",
    "print (hotelsDF['Holiday Destination'])"
   ]
  },
  {
   "cell_type": "code",
   "execution_count": 11,
   "metadata": {},
   "outputs": [
    {
     "name": "stdout",
     "output_type": "stream",
     "text": [
      "0    South Africa\n",
      "5       Australia\n",
      "Name: Holiday Destination, dtype: object\n"
     ]
    }
   ],
   "source": [
    "scoresDF = holidaydataDF.loc[holidaydataDF[\"Feedback score (/10)\"] > 8]\n",
    "\n",
    "print (scoresDF['Holiday Destination'])"
   ]
  },
  {
   "cell_type": "code",
   "execution_count": 14,
   "metadata": {},
   "outputs": [
    {
     "name": "stdout",
     "output_type": "stream",
     "text": [
      "6    Brazil\n",
      "Name: Holiday Destination, dtype: object\n"
     ]
    }
   ],
   "source": [
    "lowscoresDF = holidaydataDF.loc[holidaydataDF[\"Feedback score (/10)\"] < 2]\n",
    "\n",
    "print (lowscoresDF['Holiday Destination'])"
   ]
  },
  {
   "cell_type": "code",
   "execution_count": 13,
   "metadata": {},
   "outputs": [
    {
     "data": {
      "text/plain": [
       "<AxesSubplot:xlabel='# All inclusive Hotels', ylabel='Feedback score (/10)'>"
      ]
     },
     "execution_count": 13,
     "metadata": {},
     "output_type": "execute_result"
    },
    {
     "data": {
      "image/png": "[encoded data removed]",
      "text/plain": [
       "<Figure size 432x288 with 1 Axes>"
      ]
     },
     "metadata": {
      "needs_background": "light"
     },
     "output_type": "display_data"
    }
   ],
   "source": [
    "import matplotlib.pyplot as plt\n",
    "\n",
    "holidaydataDF.plot.scatter(x='# All inclusive Hotels', y='Feedback score (/10)')"
   ]
  },
  {
   "cell_type": "code",
   "execution_count": 16,
   "metadata": {},
   "outputs": [
    {
     "data": {
      "text/plain": [
       "<AxesSubplot:xlabel='Holiday Destination'>"
      ]
     },
     "execution_count": 16,
     "metadata": {},
     "output_type": "execute_result"
    },
    {
     "data": {
      "image/png": "[encoded data removed]",
      "text/plain": [
       "<Figure size 432x288 with 1 Axes>"
      ]
     },
     "metadata": {
      "needs_background": "light"
     },
     "output_type": "display_data"
    }
   ],
   "source": [
    "holidaydataDF.plot.bar(x = 'Holiday Destination', y = 'Feedback score (/10)')"
   ]
  },
  {
   "cell_type": "code",
   "execution_count": null,
   "metadata": {},
   "outputs": [],
   "source": []
  }
 ],
 "metadata": {
  "kernelspec": {
   "display_name": "Python 3",
   "language": "python",
   "name": "python3"
  },
  "language_info": {
   "codemirror_mode": {
    "name": "ipython",
    "version": 3
   },
   "file_extension": ".py",
   "mimetype": "text/x-python",
   "name": "python",
   "nbconvert_exporter": "python",
   "pygments_lexer": "ipython3",
   "version": "3.8.8"
  },
  "metadata": {
   "interpreter": {
    "hash": "aee8b7b246df8f9039afb4144a1f6fd8d2ca17a180786b69acc140d282b71a49"
   }
  }
 },
 "nbformat": 4,
 "nbformat_minor": 2
}
