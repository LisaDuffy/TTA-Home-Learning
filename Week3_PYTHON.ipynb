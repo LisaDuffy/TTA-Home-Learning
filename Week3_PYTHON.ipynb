{
 "metadata": {
  "language_info": {
   "codemirror_mode": {
    "name": "ipython",
    "version": 3
   },
   "file_extension": ".py",
   "mimetype": "text/x-python",
   "name": "python",
   "nbconvert_exporter": "python",
   "pygments_lexer": "ipython3",
   "version": "3.9.4"
  },
  "orig_nbformat": 2,
  "kernelspec": {
   "name": "python394jvsc74a57bd0aee8b7b246df8f9039afb4144a1f6fd8d2ca17a180786b69acc140d282b71a49",
   "display_name": "Python 3.9.4 64-bit"
  },
  "metadata": {
   "interpreter": {
    "hash": "aee8b7b246df8f9039afb4144a1f6fd8d2ca17a180786b69acc140d282b71a49"
   }
  }
 },
 "nbformat": 4,
 "nbformat_minor": 2,
 "cells": [
  {
   "cell_type": "code",
   "execution_count": 36,
   "metadata": {},
   "outputs": [
    {
     "output_type": "stream",
     "name": "stdout",
     "text": [
      "The numbers in your file are: 1,2,3,4,5,\n"
     ]
    }
   ],
   "source": [
    "#Task 1 - writing to, appending to and reading numbers in a text file.\n",
    "\n",
    "my_file = open(\"Numbers.txt\", \"w\")\n",
    "\n",
    "write_num = input(\"What number would you like to write to the file? \")\n",
    "\n",
    "my_file.write (str(write_num))\n",
    "my_file.write(\"\\n\")\n",
    "\n",
    "my_file.close()\n",
    "\n",
    "my_file = open(\"Numbers.txt\", \"a\")\n",
    "\n",
    "continue_y = input(\"Would you like to add another number (Y/N)? \")\n",
    "continue_y = continue_y.upper()\n",
    "\n",
    "while continue_y == 'Y':\n",
    "    write_num = input(\"What number would you like to add to the file? \")\n",
    "    my_file.write(str(write_num))\n",
    "    my_file.write(\"\\n\")\n",
    "    continue_y = input(\"Would you like to add another number (Y/N)? \")\n",
    "    continue_y = continue_y.upper()\n",
    "\n",
    "my_file.close()\n",
    "\n",
    "with open(\"Numbers.txt\", \"r\") as my_file:\n",
    "    data = my_file.read().replace('\\n', ',')\n",
    "\n",
    "print(\"The numbers in your file are:\", data)\n",
    "\n"
   ]
  },
  {
   "cell_type": "code",
   "execution_count": 37,
   "metadata": {},
   "outputs": [
    {
     "output_type": "stream",
     "name": "stdout",
     "text": [
      "Well done, you have passed. \n 74.67 % = B\n"
     ]
    }
   ],
   "source": [
    "#Task 2 - Converting a student's percentage to a grade and displaying a suitable message based on the grade\n",
    "\n",
    "def mark_grade (grade):\n",
    "    if grade >=  90:\n",
    "        output = \"A*\"\n",
    "    elif 80 <= grade < 90:\n",
    "        output = \"A\"\n",
    "    elif 70 <= grade < 80:\n",
    "        output = \"B\"\n",
    "    elif 60 <= grade < 70:\n",
    "        output = \"C\"\n",
    "    elif 50 <= grade < 60:\n",
    "        output = \"D\"\n",
    "    elif 40 <= grade < 50:\n",
    "        output = \"E\"\n",
    "    elif 30 <= grade < 40:\n",
    "        output = \"F\"\n",
    "    else:\n",
    "        output = \"Unqualified\"\n",
    "    return output\n",
    "\n",
    "percentage_mark = float(input(\"What percentage did you get? \"))\n",
    "\n",
    "grade_mark = mark_grade(percentage_mark)\n",
    "\n",
    "if grade_mark in (\"A*\", \"A\"):\n",
    "    print (\"Congratulations, you have achieved a distinction. \\n\",   \n",
    "           percentage_mark, \"% =\", grade_mark)\n",
    "elif grade_mark in (\"B\", \"C\", \"D\", \"E\"):\n",
    "    print (\"Well done, you have passed. \\n\", percentage_mark, \"% =\", \n",
    "            grade_mark)\n",
    "else:\n",
    "    print(\"Sorry, you have failed. \\n\", percentage_mark, \"% =\", grade_mark)\n"
   ]
  },
  {
   "cell_type": "code",
   "execution_count": null,
   "metadata": {},
   "outputs": [],
   "source": []
  }
 ]
}