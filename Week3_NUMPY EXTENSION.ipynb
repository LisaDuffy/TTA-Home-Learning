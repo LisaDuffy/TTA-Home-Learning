{
 "metadata": {
  "language_info": {
   "codemirror_mode": {
    "name": "ipython",
    "version": 3
   },
   "file_extension": ".py",
   "mimetype": "text/x-python",
   "name": "python",
   "nbconvert_exporter": "python",
   "pygments_lexer": "ipython3",
   "version": "3.9.4"
  },
  "orig_nbformat": 2,
  "kernelspec": {
   "name": "python394jvsc74a57bd0aee8b7b246df8f9039afb4144a1f6fd8d2ca17a180786b69acc140d282b71a49",
   "display_name": "Python 3.9.4 64-bit"
  },
  "metadata": {
   "interpreter": {
    "hash": "aee8b7b246df8f9039afb4144a1f6fd8d2ca17a180786b69acc140d282b71a49"
   }
  }
 },
 "nbformat": 4,
 "nbformat_minor": 2,
 "cells": [
  {
   "cell_type": "code",
   "execution_count": 2,
   "metadata": {},
   "outputs": [
    {
     "output_type": "stream",
     "name": "stdout",
     "text": [
      "Requirement already satisfied: numpy in /Library/Frameworks/Python.framework/Versions/3.9/lib/python3.9/site-packages (1.20.3)\n",
      "\u001b[33mWARNING: You are using pip version 20.2.3; however, version 21.1.1 is available.\n",
      "You should consider upgrading via the '/usr/local/bin/python3 -m pip install --upgrade pip' command.\u001b[0m\n",
      "Note: you may need to restart the kernel to use updated packages.\n"
     ]
    }
   ],
   "source": [
    "pip install numpy "
   ]
  },
  {
   "cell_type": "code",
   "execution_count": 3,
   "metadata": {},
   "outputs": [],
   "source": [
    "import numpy as np"
   ]
  },
  {
   "cell_type": "code",
   "execution_count": 17,
   "metadata": {
    "tags": []
   },
   "outputs": [
    {
     "output_type": "stream",
     "name": "stdout",
     "text": [
      "Pattern :  [1, 1, 1, 2, 2, 2, 3, 3, 3, 1, 2, 3, 1, 2, 3, 1, 2, 3]\n"
     ]
    }
   ],
   "source": [
    "#EXTENSION TASK 1 - create a pattern using NumPy functions\n",
    "# [1,1,1,2,2,2,3,3,3,1,2,3,1,2,3,1,2,3]\n",
    "\n",
    "array = np.concatenate((np.ones(3), np.ones(3) * 2, np.ones(3) * 3, np.arange(1, 4), np.arange(1,4), np.arange(1,4)))\n",
    "\n",
    "li = []\n",
    "for i in array:\n",
    "\tli.append(int(i))\n",
    "\n",
    "print (\"Pattern : \", li)"
   ]
  },
  {
   "cell_type": "code",
   "execution_count": 11,
   "metadata": {},
   "outputs": [
    {
     "output_type": "stream",
     "name": "stdout",
     "text": [
      "[6 7 8 9]\n"
     ]
    }
   ],
   "source": [
    "#EXTENSION TASK 2 - In two arrays a ( 1,2,3,4,5) and b ( 4,5,6,7,8,9) remove all repeating items present in array b\n",
    "\n",
    "a = np.arange(1,6)\n",
    "b = np.arange(4,10)\n",
    "\n",
    "arrayb = np.setdiff1d(b,a)\n",
    "\n",
    "print (arrayb)\n"
   ]
  },
  {
   "cell_type": "code",
   "execution_count": 27,
   "metadata": {},
   "outputs": [
    {
     "output_type": "stream",
     "name": "stdout",
     "text": [
      "The sum of  [3 4 5 6 7]  =  25\n"
     ]
    }
   ],
   "source": [
    "#EXTENSION TASK 3 - Get all items between 3 and 7 from a and b and sum them together\n",
    "\n",
    "array_ab = np.concatenate((a,b))\n",
    "\n",
    "array_ab = array_ab[array_ab >= 3]\n",
    "array_ab = array_ab[array_ab <= 7]\n",
    "\n",
    "array_ab = np.unique(array_ab)\n",
    "\n",
    "sum_ab = np.sum(array_ab)\n",
    "\n",
    "print (\"The sum of \", array_ab, \" = \", sum_ab)"
   ]
  },
  {
   "cell_type": "code",
   "execution_count": null,
   "metadata": {},
   "outputs": [],
   "source": []
  }
 ]
}