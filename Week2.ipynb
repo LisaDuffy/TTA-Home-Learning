{
 "metadata": {
  "language_info": {
   "codemirror_mode": {
    "name": "ipython",
    "version": 3
   },
   "file_extension": ".py",
   "mimetype": "text/x-python",
   "name": "python",
   "nbconvert_exporter": "python",
   "pygments_lexer": "ipython3",
   "version": "3.9.4"
  },
  "orig_nbformat": 2,
  "kernelspec": {
   "name": "python394jvsc74a57bd0aee8b7b246df8f9039afb4144a1f6fd8d2ca17a180786b69acc140d282b71a49",
   "display_name": "Python 3.9.4 64-bit"
  },
  "metadata": {
   "interpreter": {
    "hash": "aee8b7b246df8f9039afb4144a1f6fd8d2ca17a180786b69acc140d282b71a49"
   }
  }
 },
 "nbformat": 4,
 "nbformat_minor": 2,
 "cells": [
  {
   "cell_type": "code",
   "execution_count": 39,
   "metadata": {},
   "outputs": [
    {
     "output_type": "stream",
     "name": "stdout",
     "text": [
      "Colour 1 = YELLOW\n",
      "Colour 2 = RED\n",
      "YELLOW + RED = ORANGE\n",
      "Colour 1 = YELLOW\n",
      "Colour 2 = BLUE\n",
      "YELLOW + BLUE = GREEN\n",
      "Colour 1 = BLUE\n",
      "Colour 2 = RED\n",
      "BLUE + RED = PURPLE\n",
      "Colour 1 = RED\n",
      "Colour 2 = BLUE\n",
      "RED + BLUE = PURPLE\n"
     ]
    }
   ],
   "source": [
    "# Task 1 - code created from DFD based on a primary colour wheel\n",
    "\n",
    "def validPrimaryCol (colour):\n",
    "    if colour in ('RED','BLUE','YELLOW'):\n",
    "        output = 'Y'\n",
    "    else:\n",
    "         output = 'N'\n",
    "    return output \n",
    "\n",
    "def secondaryCol (colour1, colour2):\n",
    "    if colour1 == 'RED' and colour2 == 'BLUE':\n",
    "        output = 'PURPLE'\n",
    "    elif colour1 == 'BLUE' and colour2 == 'YELLOW':\n",
    "        output = 'GREEN'\n",
    "    elif colour1 == 'RED' and colour2 == 'YELLOW':\n",
    "        output = 'ORANGE'\n",
    "    elif colour1 == 'BLUE' and colour2 == 'RED':\n",
    "        output = 'PURPLE'\n",
    "    elif colour1 == 'YELLOW' and colour2 == 'BLUE':\n",
    "        output = 'GREEN'\n",
    "    elif colour1 == 'YELLOW' and colour2 == 'RED':\n",
    "        output = 'ORANGE'\n",
    "    else:\n",
    "        output = 'Unable to determine colour'\n",
    "    return output\n",
    "\n",
    "#start of while loop to continue finding secondary colours\n",
    "keepGoing = 'Y'\n",
    "\n",
    "while keepGoing == 'Y': \n",
    "    # code to get valid first colour\n",
    "    valid = 'N'\n",
    "    while valid == 'N':\n",
    "        firstColour = input('Please enter a primary colour (RED, BLUE or                YELLOW): ')\n",
    "        firstColour = firstColour.upper()\n",
    "        valid = validPrimaryCol(firstColour)\n",
    "        if valid == 'N':\n",
    "            print ('Invalid colour, please try again')\n",
    "        else:\n",
    "            print ('Colour 1 =', firstColour)\n",
    "\n",
    "    # code to get valid second colour\n",
    "    valid = 'N'\n",
    "    while valid == 'N':\n",
    "        secondColour = input('Please enter a primary colour (RED, BLUE or               YELLOW) : ')\n",
    "        secondColour = secondColour.upper()\n",
    "        valid = validPrimaryCol(secondColour)\n",
    "        if valid == 'N':\n",
    "            print ('Invalid colour, please try again')\n",
    "        else:\n",
    "            print ('Colour 2 =', secondColour)\n",
    "\n",
    "    #determine secondary colour\n",
    "    newColour = secondaryCol (firstColour, secondColour)\n",
    "    print (firstColour, '+', secondColour, '=', newColour)\n",
    "\n",
    "    keepGoing = input ('Would you like to find another secondary colour (Y/                         N)?')\n",
    "    keepGoing = keepGoing.upper()\n",
    "\n",
    "#end of program \n"
   ]
  },
  {
   "cell_type": "code",
   "execution_count": null,
   "metadata": {},
   "outputs": [],
   "source": [
    "#Task 2 - create a function to accept parameters that will calculate the loss of value of a motorbike\n",
    "\n",
    "def currentVal(Value, loss):\n",
    "    output = Value - (Value * loss)\n",
    "    return output\n",
    "\n",
    "# get values for motorbike and percentage loss from user\n",
    "\n",
    "init_bikeValue = int(input(\"What is the current value of the notorbike? £\"))\n",
    "percentage_loss = int(input(\"What is the percentage loss in value per year?\"))\n",
    "value_loss = percentage_loss /100\n",
    "year = 0\n",
    "\n",
    "# show value of motorbike each year while value is still greater than £1000\n",
    "\n",
    "while init_bikeValue >= 1000:\n",
    "    format_bikeValue = \"{:.2f}\".format(init_bikeValue)\n",
    "    print (\"The motorbike is valued at £\", format_bikeValue, \" after \", year, \"year(s)\")\n",
    "    init_bikeValue = currentVal(init_bikeValue,value_loss)\n",
    "    year = year + 1"
   ]
  },
  {
   "cell_type": "code",
   "execution_count": null,
   "metadata": {},
   "outputs": [],
   "source": [
    "#Task 3 - allow a user to perform a choice of operations on two numbers making use of a procedure\n",
    "\n",
    "def calculation (num1, num2, operand):\n",
    "    if operand == 'a':\n",
    "        print (num1, \"+\", num2, \"=\", num1+num2)\n",
    "    elif operand == 'b':\n",
    "        print (num1, \"-\", num2, \"=\", num1-num2)\n",
    "    elif operand == 'c':\n",
    "        print (num1, \"divided by\", num2, \"=\", num1/num2)\n",
    "    elif operand == 'd':\n",
    "        print (num1, \"x\", num2, \"=\", num1*num2)\n",
    "    elif operand == 'e':\n",
    "        print (num1, \"to the power of\", num2, \"=\",num1**num2)\n",
    "    else:\n",
    "        print (\"Unable to perform calculation\")\n",
    "\n",
    "user_num1 = int(input(\"Enter a number :\"))\n",
    "user_num2 = int(input(\"Enter another number :\"))\n",
    "\n",
    "operation = input (\"Enter 'a' if you want to add, \\n 'b' if you want to subtract, \\n 'c' if you want to divide, \\n 'd' if you want to multiply or \\n 'e' if want to perform the power of \")\n",
    "\n",
    "operator = operation.lower()\n",
    "\n",
    "calculation(user_num1, user_num2, operator)"
   ]
  },
  {
   "cell_type": "code",
   "execution_count": null,
   "metadata": {},
   "outputs": [],
   "source": []
  }
 ]
}