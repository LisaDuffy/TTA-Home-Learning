{
 "metadata": {
  "language_info": {
   "codemirror_mode": {
    "name": "ipython",
    "version": 3
   },
   "file_extension": ".py",
   "mimetype": "text/x-python",
   "name": "python",
   "nbconvert_exporter": "python",
   "pygments_lexer": "ipython3",
   "version": "3.9.4"
  },
  "orig_nbformat": 2,
  "kernelspec": {
   "name": "python394jvsc74a57bd0aee8b7b246df8f9039afb4144a1f6fd8d2ca17a180786b69acc140d282b71a49",
   "display_name": "Python 3.9.4 64-bit"
  },
  "metadata": {
   "interpreter": {
    "hash": "aee8b7b246df8f9039afb4144a1f6fd8d2ca17a180786b69acc140d282b71a49"
   }
  }
 },
 "nbformat": 4,
 "nbformat_minor": 2,
 "cells": [
  {
   "cell_type": "code",
   "execution_count": 12,
   "metadata": {},
   "outputs": [
    {
     "output_type": "stream",
     "name": "stdout",
     "text": [
      "The motorbike is valued at £ 2000.00  after  0 year(s)\nThe motorbike is valued at £ 1600.00  after  1 year(s)\nThe motorbike is valued at £ 1280.00  after  2 year(s)\nThe motorbike is valued at £ 1024.00  after  3 year(s)\n"
     ]
    }
   ],
   "source": [
    "#Task - create a function to accept parameters that will calculate the loss of value of a motorbike\n",
    "\n",
    "def currentVal(Value, loss):\n",
    "    output = Value - (Value * loss)\n",
    "    return output\n",
    "\n",
    "# get values for motorbike and percentage loss from user\n",
    "\n",
    "init_bikeValue = int(input(\"What is the current value of the notorbike? £\"))\n",
    "percentage_loss = int(input(\"What is the percentage loss in value per year?\"))\n",
    "value_loss = percentage_loss /100\n",
    "year = 0\n",
    "\n",
    "# show value of motorbike each year while value is still greater than £1000\n",
    "\n",
    "while init_bikeValue >= 1000:\n",
    "    format_bikeValue = \"{:.2f}\".format(init_bikeValue)\n",
    "    print (\"The motorbike is valued at £\", format_bikeValue, \" after \", year, \"year(s)\")\n",
    "    init_bikeValue = currentVal(init_bikeValue,value_loss)\n",
    "    year = year + 1"
   ]
  },
  {
   "cell_type": "code",
   "execution_count": 10,
   "metadata": {},
   "outputs": [
    {
     "output_type": "stream",
     "name": "stdout",
     "text": [
      "2 to the power of 2 = 4\n"
     ]
    }
   ],
   "source": [
    "#Task - allow a user to perform a choice of operations on two numbers making use of a procedure\n",
    "\n",
    "def calculation (num1, num2, operand):\n",
    "    if operand == 'a':\n",
    "        print (num1, \"+\", num2, \"=\", num1+num2)\n",
    "    elif operand == 'b':\n",
    "        print (num1, \"-\", num2, \"=\", num1-num2)\n",
    "    elif operand == 'c':\n",
    "        print (num1, \"divided by\", num2, \"=\", num1/num2)\n",
    "    elif operand == 'd':\n",
    "        print (num1, \"x\", num2, \"=\", num1*num2)\n",
    "    elif operand == 'e':\n",
    "        print (num1, \"to the power of\", num2, \"=\",num1**num2)\n",
    "    else:\n",
    "        print (\"Unable to perform calculation\")\n",
    "\n",
    "user_num1 = int(input(\"Enter a number :\"))\n",
    "user_num2 = int(input(\"Enter another number :\"))\n",
    "\n",
    "operation = input (\"Enter 'a' if you want to add, \\n 'b' if you want to subtract, \\n 'c' if you want to divide, \\n 'd' if you want to multiply or \\n 'e' if want to perform the power of \")\n",
    "\n",
    "operator = operation.lower()\n",
    "\n",
    "calculation(user_num1, user_num2, operator)"
   ]
  },
  {
   "cell_type": "code",
   "execution_count": null,
   "metadata": {},
   "outputs": [],
   "source": []
  }
 ]
}